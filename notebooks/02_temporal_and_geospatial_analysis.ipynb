{
 "cells": [
  {
   "cell_type": "markdown",
   "metadata": {},
   "source": [
    "# Temporal and Geospatial Analysis"
   ]
  },
  {
   "cell_type": "code",
   "execution_count": null,
   "metadata": {},
   "outputs": [],
   "source": [
    "import pandas as pd\n",
    "import matplotlib.pyplot as plt\n",
    "import seaborn as sns\n",
    "import plotly.express as px\n",
    "import folium\n",
    "\n",
    "# Load the processed data\n",
    "df = pd.read_parquet('../data/processed/listings.parquet')"
   ]
  },
  {
   "cell_type": "code",
   "execution_count": null,
   "metadata": {},
   "outputs": [],
   "source": [
    "# Convert date columns to datetime objects\n",
    "df['host_since'] = pd.to_datetime(df['host_since'], errors='coerce', format='mixed')\n",
    "df['first_review'] = pd.to_datetime(df['first_review'], errors='coerce', format='mixed')\n",
    "df['last_review'] = pd.to_datetime(df['last_review'], errors='coerce', format='mixed')\n",
    "\n",
    "# Drop rows with NaN values in crucial columns for plotting\n",
    "df_cleaned = df.dropna(subset=['price', 'latitude', 'longitude', 'last_review'])"
   ]
  },
  {
   "cell_type": "markdown",
   "metadata": {},
   "source": [
    "## Temporal Analysis"
   ]
  },
  {
   "cell_type": "code",
   "execution_count": null,
   "metadata": {},
   "outputs": [],
   "source": [
    "# Price seasonality (monthly)\n",
    "df_cleaned.loc[:, 'month'] = df_cleaned['last_review'].dt.month\n",
    "plt.figure(figsize=(12, 6))\n",
    "sns.lineplot(x='month', y='price', data=df_cleaned, errorbar=None)\n",
    "plt.title('Average Price by Month')\n",
    "plt.xlabel('Month')\n",
    "plt.ylabel('Average Price')\n",
    "plt.xticks(range(1, 13))\n",
    "plt.grid(True)\n",
    "plt.show()"
   ]
  },
  {
   "cell_type": "code",
   "execution_count": null,
   "metadata": {},
   "outputs": [],
   "source": [
    "# Availability over the year\n",
    "plt.figure(figsize=(12, 6))\n",
    "df_cleaned.groupby(df_cleaned['last_review'].dt.to_period('M'))['availability_365'].mean().plot(kind='line')\n",
    "plt.title('Average Availability Over Time')\n",
    "plt.xlabel('Date')\n",
    "plt.ylabel('Average Availability (days)')\n",
    "plt.grid(True)\n",
    "plt.show()"
   ]
  },
  {
   "cell_type": "markdown",
   "metadata": {},
   "source": [
    "## Geospatial Analysis"
   ]
  },
  {
   "cell_type": "code",
   "execution_count": null,
   "metadata": {},
   "outputs": [],
   "source": [
    "# Density map\n",
    "fig = px.density_mapbox(df_cleaned, lat='latitude', lon='longitude', radius=10,\n",
    "                        center=dict(lat=df_cleaned.latitude.mean(), lon=df_cleaned.longitude.mean()), zoom=10,\n",
    "                        mapbox_style=\"open-street-map\")\n",
    "fig.update_layout(title='Listing Density Map')\n",
    "fig.show()"
   ]
  },
  {
   "cell_type": "code",
   "execution_count": null,
   "metadata": {},
   "outputs": [],
   "source": [
    "# Average price heatmap\n",
    "# We need geojson data for neighbourhoods to create a choropleth map.\n",
    "# Without it, we can create a scatter plot on a map.\n",
    "fig = px.scatter_mapbox(df_cleaned, lat='latitude', lon='longitude', color='price', size='price',\n",
    "                        color_continuous_scale=px.colors.cyclical.IceFire, size_max=15, zoom=10,\n",
    "                        mapbox_style=\"open-street-map\",\n",
    "                        hover_name='name', hover_data=['neighbourhood_cleansed', 'price'])\n",
    "fig.update_layout(title='Average Price Heatmap by Neighbourhood')\n",
    "fig.show()"
   ]
  }
 ],
 "metadata": {
  "kernelspec": {
   "display_name": "Python 3",
   "language": "python",
   "name": "python3"
  },
  "language_info": {
   "codemirror_mode": {
    "name": "ipython",
    "version": 3
   },
   "file_extension": ".py",
   "mimetype": "text/x-python",
   "name": "python",
   "nbconvert_exporter": "python",
   "pygments_lexer": "ipython3",
   "version": "3.10.12"
  }
 },
 "nbformat": 4,
 "nbformat_minor": 4
}
