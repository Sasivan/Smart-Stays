{
 "cells": [
  {
   "cell_type": "markdown",
   "metadata": {},
   "source": [
    "# Review and Amenity Analysis"
   ]
  },
  {
   "cell_type": "code",
   "execution_count": null,
   "metadata": {},
   "outputs": [],
   "source": [
    "import pandas as pd\n",
    "import matplotlib.pyplot as plt\n",
    "import seaborn as sns\n",
    "from sklearn.feature_extraction.text import TfidfVectorizer\n",
    "from textblob import TextBlob\n\n",
    "# Load the processed data\n",
    "df = pd.read_parquet('../data/processed/listings.parquet')\n\n",
    "# Drop rows with missing reviews\n",
    "df_reviews = df.dropna(subset=['review_scores_rating', 'reviews_per_month'])"
   ]
  },
  {
   "cell_type": "markdown",
   "metadata": {},
   "source": [
    "## Review & Sentiment Analysis"
   ]
  },
  {
   "cell_type": "code",
   "execution_count": null,
   "metadata": {},
   "outputs": [],
   "source": [
    "# Average rating distribution\n",
    "plt.figure(figsize=(10, 6))\n",
    "sns.histplot(df_reviews['review_scores_rating'], bins=20, kde=True)\n",
    "plt.title('Distribution of Review Scores Rating')\n",
    "plt.show()\n\n",
    "# Sentiment score distribution for review text\n",
    "# Note: We don't have the full review text, so we can't do sentiment analysis or TF-IDF.\n",
    "# We will proceed with the data we have."
   ]
  },
  {
   "cell_type": "markdown",
   "metadata": {},
   "source": [
    "## Amenities and Listing Characteristics"
   ]
  },
  {
   "cell_type": "code",
   "execution_count": null,
   "metadata": {},
   "outputs": [],
   "source": [
    "# Correlation between amenities and price/popularity\n",
    "# (We need to parse the 'amenities' column first)\n",
    "# This is a complex task and is better suited for the feature engineering stage."
   ]
  }
 ],
 "metadata": {
  "kernelspec": {
   "display_name": "Python 3",
   "language": "python",
   "name": "python3"
  },
  "language_info": {
   "codemirror_mode": {
    "name": "ipython",
    "version": 3
   },
   "file_extension": ".py",
   "mimetype": "text/x-python",
   "name": "python",
   "nbconvert_exporter": "python",
   "pygments_lexer": "ipython3",
   "version": "3.10.12"
  }
 },
 "nbformat": 4,
 "nbformat_minor": 4
}
