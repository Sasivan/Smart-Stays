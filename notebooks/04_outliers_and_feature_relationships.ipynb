{
 "cells": [
  {
   "cell_type": "markdown",
   "metadata": {},
   "source": [
    "# Outliers and Feature Relationships"
   ]
  },
  {
   "cell_type": "code",
   "execution_count": null,
   "metadata": {},
   "outputs": [],
   "source": [
    "import pandas as pd\n",
    "import matplotlib.pyplot as plt\n",
    "import seaborn as sns\n\n",
    "# Load the processed data\n",
    "df = pd.read_parquet('../data/processed/listings.parquet')"
   ]
  },
  {
   "cell_type": "markdown",
   "metadata": {},
   "source": [
    "## Outliers and Heterogeneity"
   ]
  },
  {
   "cell_type": "code",
   "execution_count": null,
   "metadata": {},
   "outputs": [],
   "source": [
    "# Identify premium/cheap clusters using boxplots\n",
    "plt.figure(figsize=(12, 8))\n",
    "sns.boxplot(x='neighbourhood_cleansed', y='price', data=df)\n",
    "plt.xticks(rotation=90)\n",
    "plt.title('Price Distribution by Neighbourhood')\n",
    "plt.show()\n\n",
    "# Violin plots for price by room type\n",
    "plt.figure(figsize=(10, 6))\n",
    "sns.violinplot(x='room_type', y='price', data=df)\n",
    "plt.title('Price Distribution by Room Type')\n",
    "plt.show()"
   ]
  },
  {
   "cell_type": "markdown",
   "metadata": {},
   "source": [
    "## Feature Relationships"
   ]
  },
  {
   "cell_type": "code",
   "execution_count": null,
   "metadata": {},
   "outputs": [],
   "source": [
    "# Correlation matrix\n",
    "# Select only numeric columns for correlation matrix\n",
    "numeric_cols = df.select_dtypes(include=['int64', 'float64']).columns\n",
    "corr_matrix = df[numeric_cols].corr(method='spearman')\n\n",
    "plt.figure(figsize=(15, 12))\n",
    "sns.heatmap(corr_matrix, annot=True, fmt='.2f', cmap='coolwarm')\n",
    "plt.title('Spearman Correlation Matrix of Numeric Features')\n",
    "plt.show()"
   ]
  }
 ],
 "metadata": {
  "kernelspec": {
   "display_name": "Python 3",
   "language": "python",
   "name": "python3"
  },
  "language_info": {
   "codemirror_mode": {
    "name": "ipython",
    "version": 3
   },
   "file_extension": ".py",
   "mimetype": "text/x-python",
   "name": "python",
   "nbconvert_exporter": "python",
   "pygments_lexer": "ipython3",
   "version": "3.10.12"
  }
 },
 "nbformat": 4,
 "nbformat_minor": 4
}
